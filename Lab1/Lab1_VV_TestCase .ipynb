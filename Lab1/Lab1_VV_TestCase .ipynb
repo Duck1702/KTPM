{
  "nbformat": 4,
  "nbformat_minor": 0,
  "metadata": {
    "colab": {
      "provenance": []
    },
    "kernelspec": {
      "name": "python3",
      "display_name": "Python 3"
    },
    "language_info": {
      "name": "python"
    }
  },
  "cells": [
    {
      "cell_type": "markdown",
      "source": [
        "#Lab1 - Verification & Validation - Test Cases\n",
        "Nguyễn Việt Đức – 3122411044 – DCT122C5\n"
      ],
      "metadata": {
        "id": "v9oF9EgySZyf"
      }
    },
    {
      "cell_type": "code",
      "source": [
        "%%bash\n",
        "cat > Lab1_VV_TestCase.cpp <<'EOF'\n",
        "#include <bits/stdc++.h>\n",
        "using namespace std;\n",
        "// ===== f1 =====\n",
        "int f1(int x) {\n",
        "    if (x > 10) return 2*x;\n",
        "    else return -x;\n",
        "}\n",
        "int f1_bug(int x) {\n",
        "    if (x > 10) return 2*x;\n",
        "    else if (x > 0) return -x;\n",
        "    else return 2*x;\n",
        "}\n",
        "// ===== f2 =====\n",
        "int f2(int x) {\n",
        "    if (x < 10) return 2 * x;\n",
        "    else if (x < 2) return -x;\n",
        "    else return 2 * x;\n",
        "}\n",
        "// ===== f3 =====\n",
        "int f3(int x) {\n",
        "    double val = x * x * cos(x);\n",
        "    if (val <= 0) throw runtime_error(\"log domain error\");\n",
        "    if (log(val) < 3.0 * x) return 2*x;\n",
        "    else return 2*x;\n",
        "}\n",
        "// ===== findMax =====\n",
        "int findMax_bug(int num1, int num2, int num3) {\n",
        "    int max = 0;\n",
        "    if ((num1 > num2) && (num1 > num3)) max = num1;\n",
        "    if ((num2 > num1) && (num2 > num3)) max = num2;\n",
        "    if ((num3 > num1) && (num3 > num2)) max = num3;\n",
        "    return max;\n",
        "}\n",
        "int findMax_fixed(int num1, int num2, int num3) {\n",
        "    int mx = num1;\n",
        "    if (num2 > mx) mx = num2;\n",
        "    if (num3 > mx) mx = num3;\n",
        "    return mx;\n",
        "}\n",
        "// ===== solveQuartic =====\n",
        "int solveQuartic(double a, double b, double c, double x[]) {\n",
        "    if (a == 0 && b == 0 && c == 0) return -1;\n",
        "    if (a == 0 && b == 0) return 0;\n",
        "    if (a == 0) {\n",
        "        double y = -c / b;\n",
        "        if (y < 0) return 0;\n",
        "        x[0] = sqrt(y);\n",
        "        x[1] = -sqrt(y);\n",
        "        return 2;\n",
        "    }\n",
        "    double delta = b*b - 4*a*c;\n",
        "    if (delta < 0) return 0;\n",
        "    double y1 = (-b + sqrt(delta)) / (2*a);\n",
        "    double y2 = (-b - sqrt(delta)) / (2*a);\n",
        "    int count = 0;\n",
        "    if (y1 >= 0) {\n",
        "        x[count++] = sqrt(y1);\n",
        "        x[count++] = -sqrt(y1);\n",
        "    }\n",
        "    if (y2 >= 0 && y2 != y1) {\n",
        "        x[count++] = sqrt(y2);\n",
        "        x[count++] = -sqrt(y2);\n",
        "    }\n",
        "    return count;\n",
        "}\n",
        "// ===== main test runner =====\n",
        "int main() {\n",
        "    // f1\n",
        "    cout << \"=== f1 tests ===\\\\n\";\n",
        "    for (int x : {11, 10, -5}) {\n",
        "        cout << \"x=\"<<x<<\" | f1=\"<<f1(x)<<\" | f1_bug=\"<<f1_bug(x)<<\"\\\\n\";\n",
        "    }\n",
        "    // f2\n",
        "    cout << \"\\\\n=== f2 tests ===\\\\n\";\n",
        "    for (int x : {1,5,10}) {\n",
        "        cout << \"x=\"<<x<<\" | f2=\"<<f2(x)<<\"\\\\n\";\n",
        "    }\n",
        "    // findMax\n",
        "    cout << \"\\\\n=== findMax tests ===\\\\n\";\n",
        "    vector<tuple<int,int,int>> cases = {\n",
        "        {3,2,1}, {1,3,2}, {1,2,3}, {-1,-2,-3}, {2,2,1}, {2,2,2}\n",
        "    };\n",
        "    for (auto &t: cases) {\n",
        "        int a,b,c; tie(a,b,c) = t;\n",
        "        cout << \"input=(\"<<a<<\",\"<<b<<\",\"<<c<<\") expected=\"<<findMax_fixed(a,b,c)\n",
        "             <<\" | bug=\"<<findMax_bug(a,b,c)<<\"\\\\n\";\n",
        "    }\n",
        "    // f3\n",
        "    cout << \"\\\\n=== f3 tests ===\\\\n\";\n",
        "    for (int x : {1,2,3}) {\n",
        "        try {\n",
        "            cout << \"x=\"<<x<<\" -> \"<<f3(x)<<\"\\\\n\";\n",
        "        } catch (exception &e) {\n",
        "            cout << \"x=\"<<x<<\" -> exception: \"<<e.what()<<\"\\\\n\";\n",
        "        }\n",
        "    }\n",
        "    // solveQuartic\n",
        "    cout << \"\\\\n=== solveQuartic tests ===\\\\n\";\n",
        "    double arr[4];\n",
        "    vector<tuple<double,double,double>> qcases = {\n",
        "        {0,0,0}, {0,0,1}, {0,2,-8}, {1,0,-4},\n",
        "        {1,-5,4}, {1,0,1}, {1,-2,1}, {1,2,1}\n",
        "    };\n",
        "    for (auto &t: qcases) {\n",
        "        double a,b,c; tie(a,b,c) = t;\n",
        "        int n = solveQuartic(a,b,c,arr);\n",
        "        cout << \"a=\"<<a<<\", b=\"<<b<<\", c=\"<<c<<\" -> n=\"<<n;\n",
        "        if (n>0) {\n",
        "            cout << \" {\";\n",
        "            for (int i=0;i<n;i++) cout << arr[i] << (i==n-1? \"\":\", \");\n",
        "            cout << \"}\";\n",
        "        }\n",
        "        cout << \"\\\\n\";\n",
        "    }\n",
        "    return 0;\n",
        "}\n",
        "EOF\n"
      ],
      "metadata": {
        "id": "FTK1JLljSjnY"
      },
      "execution_count": 4,
      "outputs": []
    },
    {
      "cell_type": "code",
      "source": [
        "%%bash\n",
        "g++ -std=c++17 -O2 -o Lab1_VV_TestCase Lab1_VV_TestCase.cpp && echo \"Compiled OK\"\n"
      ],
      "metadata": {
        "colab": {
          "base_uri": "https://localhost:8080/"
        },
        "id": "3CwY7BoRS4TX",
        "outputId": "8f95b9fe-2bfa-4e86-8daa-7722151d64d5"
      },
      "execution_count": 5,
      "outputs": [
        {
          "output_type": "stream",
          "name": "stdout",
          "text": [
            "Compiled OK\n"
          ]
        }
      ]
    },
    {
      "cell_type": "markdown",
      "source": [
        "#Các TestCase"
      ],
      "metadata": {
        "id": "aJDztDbyUsIS"
      }
    },
    {
      "cell_type": "code",
      "source": [
        "%%bash\n",
        "./Lab1_VV_TestCase\n"
      ],
      "metadata": {
        "colab": {
          "base_uri": "https://localhost:8080/"
        },
        "id": "PlCW8llsTRPm",
        "outputId": "62d0eec1-ae20-4405-9fe2-e7eec791bd87"
      },
      "execution_count": 6,
      "outputs": [
        {
          "output_type": "stream",
          "name": "stdout",
          "text": [
            "=== f1 tests ===\\nx=11 | f1=22 | f1_bug=22\\nx=10 | f1=-10 | f1_bug=-10\\nx=-5 | f1=5 | f1_bug=-10\\n\\n=== f2 tests ===\\nx=1 | f2=2\\nx=5 | f2=10\\nx=10 | f2=20\\n\\n=== findMax tests ===\\ninput=(3,2,1) expected=3 | bug=3\\ninput=(1,3,2) expected=3 | bug=3\\ninput=(1,2,3) expected=3 | bug=3\\ninput=(-1,-2,-3) expected=-1 | bug=-1\\ninput=(2,2,1) expected=2 | bug=0\\ninput=(2,2,2) expected=2 | bug=0\\n\\n=== f3 tests ===\\nx=1 -> 2\\nx=2 -> x=2 -> exception: log domain error\\nx=3 -> x=3 -> exception: log domain error\\n\\n=== solveQuartic tests ===\\na=0, b=0, c=0 -> n=-1\\na=0, b=0, c=1 -> n=0\\na=0, b=2, c=-8 -> n=2 {2, -2}\\na=1, b=0, c=-4 -> n=2 {1.41421, -1.41421}\\na=1, b=-5, c=4 -> n=4 {2, -2, 1, -1}\\na=1, b=0, c=1 -> n=0\\na=1, b=-2, c=1 -> n=2 {1, -1}\\na=1, b=2, c=1 -> n=0\\n"
          ]
        }
      ]
    }
  ]
}